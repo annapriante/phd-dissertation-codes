{
 "cells": [
  {
   "cell_type": "markdown",
   "metadata": {},
   "source": [
    "# Preprocessing for LIWC\n",
    "\n",
    "\n",
    "This code is used to preprocess the text of the tweets before the use of the for the LIWC software for text analysis (Tausczik, Y. R., & Pennebaker, J. W. (2010). The Psychological Meaning of Words: LIWC and Computerized Text Analysis Methods. Journal of Language and Social Psychology, 29(1), 24–54. https://doi.org/10.1177/0261927X09351676). LIWC already does the following processing steps: lowercase, grammar, capitalization, sentence structure. However, LIWC is limited in recognizing http, hashtags and @. This code is made to deal with the latter.\n",
    "\n",
    "The code expects a tab-separated file (here, 'filename.txt'), where the TweetID is in the first column; the UserID is in the second column; the text of the tweet is in the third column.\n",
    "\n",
    "The output can be saved in the same format and will return a tab-separated file with the TweetID, UserID and preprocessed text."
   ]
  },
  {
   "cell_type": "code",
   "execution_count": null,
   "metadata": {
    "collapsed": true
   },
   "outputs": [],
   "source": [
    "import re,string #for regular expressions \n",
    "\n",
    "tweets = open('filename.txt', encoding=\"utf8\").read()\n",
    "tweets = tweets.splitlines()\n",
    "\n",
    "for line in tweets:\n",
    "    fields = line.split('\\t') #this is a tab separated file\n",
    "    user_id=fields[0]\n",
    "    tweet_id=fields[1]\n",
    "    text=fields[2]\n",
    "    \n",
    "#the following lines find all URLs and replace with \"URL\"\n",
    "    link_regex    = re.compile('((https?):((//)|(\\\\\\\\))+([\\w\\d:#@%/;$()~_?\\+-=\\\\\\.&](#!)?)*)', re.DOTALL)\n",
    "    links         = re.findall(link_regex, text)\n",
    "    for link in links:\n",
    "        text = text.replace(link[0], 'URL')\n",
    "    print(user_id, '\\t', tweet_id, '\\t', text)"
   ]
  },
  {
   "cell_type": "markdown",
   "metadata": {},
   "source": [
    "For the analysis purposes of Chapter 6 of Priante (forthcoming), additional conversions and changes were necessary and were made manually are:\n",
    "\n",
    "replace \" with '\n",
    "\n",
    "replace &gt with >\n",
    "\n",
    "replace &amp with ;\n",
    "\n",
    "replace &lt with <\n",
    "\n",
    "        \n",
    "For other unicode characters, I used the conversation tables illustrated in http://www.fileformat.info/info/charset/UTF-8/list.htm"
   ]
  }
 ],
 "metadata": {
  "kernelspec": {
   "display_name": "Python 3",
   "language": "python",
   "name": "python3"
  },
  "language_info": {
   "codemirror_mode": {
    "name": "ipython",
    "version": 3
   },
   "file_extension": ".py",
   "mimetype": "text/x-python",
   "name": "python",
   "nbconvert_exporter": "python",
   "pygments_lexer": "ipython3",
   "version": "3.5.3"
  }
 },
 "nbformat": 4,
 "nbformat_minor": 0
}
