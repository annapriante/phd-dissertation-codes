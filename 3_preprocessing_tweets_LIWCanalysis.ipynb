{
 "cells": [
  {
   "cell_type": "markdown",
   "metadata": {},
   "source": [
    "# Preprocessing for LIWC\n",
    "\n",
    "LIWC already does the following processing: lowercase, grammar, capitalization, sentence structure. Misspelling is still a problem (as in all softwares).\n",
    "For this analysis, don't remove punctuation because they are important for LIWC in detecting sentences and emoticons.\n",
    "Common Internet notations: LIWC has problems in dealing with http, hashtags and @.  However, it does recognize some netspeak words (e.g., rt is categorize as \"social\")."
   ]
  },
  {
   "cell_type": "code",
   "execution_count": null,
   "metadata": {
    "collapsed": true
   },
   "outputs": [],
   "source": [
    "import re,string #for regular expressions \n",
    "\n",
    "tweets = open('file.txt', encoding=\"utf8\").read()\n",
    "tweets = tweets.splitlines()\n",
    "\n",
    "for line in tweets:\n",
    "    fields = line.split('\\t') #this is a tab separated file\n",
    "    user_id=fields[0]\n",
    "    tweet_id=fields[1]\n",
    "    text=fields[2]\n",
    "    \n",
    "#the following lines find all URLs and replace with \"URL\"\n",
    "    link_regex    = re.compile('((https?):((//)|(\\\\\\\\))+([\\w\\d:#@%/;$()~_?\\+-=\\\\\\.&](#!)?)*)', re.DOTALL)\n",
    "    links         = re.findall(link_regex, text)\n",
    "    for link in links:\n",
    "        text = text.replace(link[0], 'URL')\n",
    "    print(user_id, '\\t', tweet_id, '\\t', text)"
   ]
  },
  {
   "cell_type": "markdown",
   "metadata": {},
   "source": [
    "Additional conversions and changes were necessary and were made manually are:\n",
    "\n",
    "replace \" with '\n",
    "replace &gt with >\n",
    "replace &amp with ;\n",
    "replace &lt with <\n",
    "        \n",
    "For other unicode characters, I used the conversation tables illustrated in http://www.fileformat.info/info/charset/UTF-8/list.htm"
   ]
  }
 ],
 "metadata": {
  "kernelspec": {
   "display_name": "Python 3",
   "language": "python",
   "name": "python3"
  },
  "language_info": {
   "codemirror_mode": {
    "name": "ipython",
    "version": 3
   },
   "file_extension": ".py",
   "mimetype": "text/x-python",
   "name": "python",
   "nbconvert_exporter": "python",
   "pygments_lexer": "ipython3",
   "version": "3.5.3"
  }
 },
 "nbformat": 4,
 "nbformat_minor": 0
}
