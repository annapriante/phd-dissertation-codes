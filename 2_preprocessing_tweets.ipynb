{
 "cells": [
  {
   "cell_type": "markdown",
   "metadata": {
    "collapsed": true
   },
   "source": [
    "This is a generic code that can be used for preprocessing tweet-texts."
   ]
  },
  {
   "cell_type": "code",
   "execution_count": null,
   "metadata": {
    "collapsed": true
   },
   "outputs": [],
   "source": [
    "import re,string\n",
    "tweets = open('file.txt').read()\n",
    "tweets = tweets.splitlines()\n",
    "\n",
    "import re,string\n",
    "\n",
    "def strip_all_entities(text):\n",
    "    entity_prefixes = ['@','#'] #to remove hashtags and mentions\n",
    "    for separator in string.punctuation:\n",
    "        if separator not in entity_prefixes:\n",
    "            text = text.replace(separator,'')\n",
    "    #return text\n",
    "    words = []\n",
    "    for word in text.split():\n",
    "        word = word.strip()\n",
    "        if word:\n",
    "            if word[0] not in entity_prefixes:\n",
    "                words.append(word)\n",
    "    return ' '.join(words)\n",
    "\n",
    "for line in tweets:\n",
    "    fields = line.split('\\t') #this is a tab separated file\n",
    "    tweet_id=fields[0]\n",
    "    user_id=fields[1]\n",
    "    text=fields[2]\n",
    "    \n",
    "    text = text.replace ('URL', '') # remove URL word\n",
    "    print (tweet_id, '\\t', user_id, '\\t', strip_all_entities(text))"
   ]
  }
 ],
 "metadata": {
  "kernelspec": {
   "display_name": "Python 3",
   "language": "python",
   "name": "python3"
  },
  "language_info": {
   "codemirror_mode": {
    "name": "ipython",
    "version": 3
   },
   "file_extension": ".py",
   "mimetype": "text/x-python",
   "name": "python",
   "nbconvert_exporter": "python",
   "pygments_lexer": "ipython3",
   "version": "3.5.3"
  }
 },
 "nbformat": 4,
 "nbformat_minor": 0
}
