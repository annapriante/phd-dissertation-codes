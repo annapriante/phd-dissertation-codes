{
 "cells": [
  {
   "cell_type": "markdown",
   "metadata": {
    "collapsed": true
   },
   "source": [
    "# Preprocessing tweet text\n",
    "\n",
    "This code performs text preprocessing of the tweets (remove URLs, punctuation, RT, @, #) that can be used for several purposes of text analysis.\n",
    "\n",
    "The code expects a tab-separated file (here, 'filename.txt'), where the TweetID is in the first column; the UserID is in the second column; the text of the tweet is in the third column.\n",
    "\n",
    "The output can be saved in the same format and will return a tab-separated file with the TweetID, UserID and preprocessed text."
   ]
  },
  {
   "cell_type": "code",
   "execution_count": null,
   "metadata": {
    "collapsed": true
   },
   "outputs": [],
   "source": [
    "import re,string\n",
    "\n",
    "tweets = open('filename.txt').read() # replace here the file with the data\n",
    "tweets = tweets.splitlines()\n",
    "\n",
    "def strip_all_entities(text):\n",
    "    entity_prefixes = ['@','#'] #to remove hashtags and mentions\n",
    "    for separator in string.punctuation:\n",
    "        if separator not in entity_prefixes:\n",
    "            text = text.replace(separator,'')\n",
    "    words = []\n",
    "    for word in text.split():\n",
    "        word = word.strip()\n",
    "        if word:\n",
    "            if word[0] not in entity_prefixes:\n",
    "                words.append(word)\n",
    "    return ' '.join(words)\n",
    "\n",
    "for line in tweets:\n",
    "    fields = line.split('\\t') #this is a tab separated file\n",
    "    tweet_id=fields[0]\n",
    "    user_id=fields[1]\n",
    "    text=fields[2]\n",
    "    \n",
    "    text = text.replace ('URL', '') # remove URL word\n",
    "    print (tweet_id, '\\t', user_id, '\\t', strip_all_entities(text))"
   ]
  }
 ],
 "metadata": {
  "kernelspec": {
   "display_name": "Python 3",
   "language": "python",
   "name": "python3"
  },
  "language_info": {
   "codemirror_mode": {
    "name": "ipython",
    "version": 3
   },
   "file_extension": ".py",
   "mimetype": "text/x-python",
   "name": "python",
   "nbconvert_exporter": "python",
   "pygments_lexer": "ipython3",
   "version": "3.5.3"
  }
 },
 "nbformat": 4,
 "nbformat_minor": 0
}
