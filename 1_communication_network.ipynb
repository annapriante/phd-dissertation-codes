{
 "cells": [
  {
   "cell_type": "code",
   "execution_count": null,
   "metadata": {
    "collapsed": true
   },
   "outputs": [],
   "source": [
    "# Import the json package\n",
    "import json\n",
    "\n",
    "# To open the JSON file with the tweets: in this code, we first read the file of data and convert it to a list of tweet data.\n",
    "\n",
    "tweets = [ ]\n",
    "with open('directory/filename.json') as f:\n",
    "    for line in f:\n",
    "        try: \n",
    "            tweets.append(json.loads(line))\n",
    "        except:\n",
    "            pass\n",
    "\n",
    "# The following code create the communication network:\n",
    "\n",
    "for tweet in tweets:\n",
    "if 'user_mentions' not in tweet: # to identify regular tweets (self-loops)\n",
    "        u0 = tweet['user']['id']\n",
    "        print (u0,'\\t', u0, '\\t',  (tweet['created_at']), '\\t', 'tweet')\n",
    "\n",
    "elif 'user_mentions' in tweet: # to identify regular mentions,replies,RTs\n",
    "        u1 = tweet['user']['id']\n",
    "        user_mention = tweet['user_mentions']\n",
    "\n",
    "        for u2 in user_mention:\n",
    "            if 'in_reply_to_status_id' in tweet:\n",
    "                print (u1, '\\t', (u2['id']), '\\t', (tweet['created_at']), '\\t', 'reply')\n",
    "            elif 'retweeted_status' in tweet:\n",
    "                print (u1, '\\t', (u2['id']), '\\t', (tweet['created_at']), '\\t', 'retweet')\n",
    "            else:\n",
    "                print (u1, '\\t', (u2['id']), '\\t', (tweet['created_at']), '\\t', 'mention')"
   ]
  }
 ],
 "metadata": {
  "kernelspec": {
   "display_name": "Python 3",
   "language": "python",
   "name": "python3"
  },
  "language_info": {
   "codemirror_mode": {
    "name": "ipython",
    "version": 3
   },
   "file_extension": ".py",
   "mimetype": "text/x-python",
   "name": "python",
   "nbconvert_exporter": "python",
   "pygments_lexer": "ipython3",
   "version": "3.5.3"
  }
 },
 "nbformat": 4,
 "nbformat_minor": 0
}
